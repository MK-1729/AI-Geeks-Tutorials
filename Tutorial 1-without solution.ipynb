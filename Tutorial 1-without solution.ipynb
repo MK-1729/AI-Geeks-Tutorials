{
 "cells": [
  {
   "cell_type": "code",
   "execution_count": null,
   "metadata": {},
   "outputs": [],
   "source": [
    "!pip install opencv-python"
   ]
  },
  {
   "cell_type": "code",
   "execution_count": 1,
   "metadata": {},
   "outputs": [
    {
     "name": "stdout",
     "output_type": "stream",
     "text": [
      "width=3200, height=1600, depth=3\n",
      "width=1000, height=500, depth=3\n"
     ]
    }
   ],
   "source": [
    "# import the necessary packages\n",
    "import numpy as np\n",
    "import cv2\n",
    " \n",
    "# load the input image and show its dimensions, keeping in mind that\n",
    "# images are represented as a multi-dimensional NumPy array with\n",
    "# shape no. rows (height) x no. columns (width) x no. channels (depth)\n",
    "image = cv2.imread(\"stars.png\")\n",
    "(h, w,d) = image.shape\n",
    "print(\"width={}, height={}, depth={}\".format(w, h, d))\n",
    "\n",
    "image2 = cv2.imread(\"stars_low.jpg\")\n",
    "(h2, w2,d2) = image2.shape\n",
    "print(\"width={}, height={}, depth={}\".format(w2, h2, d2))\n",
    "\n",
    "# display the image to our screen -- we will need to click the window\n",
    "# open by OpenCV and press a key on our keyboard to continue execution\n",
    "cv2.imshow('image',image)\n",
    "cv2.imshow('image2',image2)\n",
    "cv2.waitKey(0)\n",
    "cv2.destroyAllWindows()"
   ]
  },
  {
   "cell_type": "code",
   "execution_count": 2,
   "metadata": {},
   "outputs": [],
   "source": [
    "#resizable windows\n",
    "cv2.namedWindow('stars_high', cv2.WINDOW_NORMAL)\n",
    "cv2.imshow('stars_high',image)\n",
    "cv2.waitKey(0)\n",
    "cv2.destroyAllWindows()"
   ]
  },
  {
   "cell_type": "code",
   "execution_count": 2,
   "metadata": {},
   "outputs": [],
   "source": [
    "stars_grayscale_img = cv2.imread('stars_low.jpg',0)\n",
    "cv2.imshow('stars_grey',stars_grayscale_img)\n",
    "k = cv2.waitKey(0)\n",
    "if k == 27:         # wait for ESC key to exit\n",
    "    cv2.destroyAllWindows()\n",
    "elif k == ord('s'): # wait for 's' key to save and exit\n",
    "    cv2.imwrite('stars_grey.png',stars_grayscale_img)\n",
    "    cv2.destroyAllWindows()"
   ]
  },
  {
   "cell_type": "code",
   "execution_count": 37,
   "metadata": {},
   "outputs": [
    {
     "name": "stdout",
     "output_type": "stream",
     "text": [
      "[98 67 74]\n"
     ]
    }
   ],
   "source": [
    "#getting pixel RGB values\n",
    "px = image[785,128]\n",
    "print(px)\n",
    "#any pixel can modified \n",
    "image[785:885,128:228]=[255,0,0]\n",
    "cv2.namedWindow('modified_pixel', cv2.WINDOW_NORMAL)\n",
    "cv2.imshow(\"modified_pixel\", image)\n",
    "cv2.waitKey(0)\n",
    "cv2.destroyAllWindows()"
   ]
  },
  {
   "cell_type": "code",
   "execution_count": 38,
   "metadata": {},
   "outputs": [
    {
     "data": {
      "text/plain": [
       "32"
      ]
     },
     "execution_count": 38,
     "metadata": {},
     "output_type": "execute_result"
    }
   ],
   "source": [
    "#select a star\n",
    "#startY:endY, startX:endX\n",
    "purple_star = image[147:162, 608:624]\n",
    "cv2.imshow(\"purple_star\", purple_star)\n",
    "cv2.waitKey(0)\n",
    " "
   ]
  },
  {
   "cell_type": "code",
   "execution_count": 39,
   "metadata": {},
   "outputs": [
    {
     "data": {
      "text/plain": [
       "32"
      ]
     },
     "execution_count": 39,
     "metadata": {},
     "output_type": "execute_result"
    }
   ],
   "source": [
    "cv2.rectangle(image, (624,162), (608, 147), (0, 0, 255), 2)\n",
    "cv2.imshow(\"boxed_purple_star\", image)\n",
    "cv2.waitKey(0)\n"
   ]
  },
  {
   "cell_type": "code",
   "execution_count": 40,
   "metadata": {},
   "outputs": [
    {
     "name": "stdout",
     "output_type": "stream",
     "text": [
      "width=16, height=15, depth=3\n"
     ]
    }
   ],
   "source": [
    "#zoom-in star\n",
    "purple_star_enlarged=cv2.resize(purple_star,(100,100))\n",
    "cv2.imshow(\"purple_star_zoom_in\",purple_star_enlarged)\n",
    "cv2.waitKey(0)\n",
    "cv2.destroyAllWindows()\n",
    "(ROI_h, ROI_w,ROI_d) = purple_star.shape\n",
    "print(\"width={}, height={}, depth={}\".format(ROI_w, ROI_h, ROI_d))"
   ]
  },
  {
   "cell_type": "code",
   "execution_count": 25,
   "metadata": {},
   "outputs": [],
   "source": [
    "import random\n",
    "#Exercise 1\n",
    "#make a function to copy the favourite object like purple star\n",
    "#to any region with random sizes from 50 to 100% of ROI for n number of times\n",
    "def favouriteStarsPopulate(image,ROI,n):\n",
    "# put your code here\n",
    "    cv2.namedWindow('Assigment 1', cv2.WINDOW_NORMAL)\n",
    "    cv2.imshow(\"Assigment 1\",image)\n",
    "    cv2.waitKey(0)\n",
    "    cv2.destroyAllWindows()\n",
    "\n"
   ]
  },
  {
   "cell_type": "code",
   "execution_count": 41,
   "metadata": {},
   "outputs": [],
   "source": [
    "#resizable windows\n",
    "image = cv2.imread(\"stars.png\")\n",
    "favouriteStarsPopulate(image,purple_star,80)\n",
    "cv2.waitKey(0)\n",
    "cv2.destroyAllWindows()"
   ]
  },
  {
   "cell_type": "code",
   "execution_count": null,
   "metadata": {},
   "outputs": [],
   "source": []
  }
 ],
 "metadata": {
  "kernelspec": {
   "display_name": "Python 3",
   "language": "python",
   "name": "python3"
  },
  "language_info": {
   "codemirror_mode": {
    "name": "ipython",
    "version": 3
   },
   "file_extension": ".py",
   "mimetype": "text/x-python",
   "name": "python",
   "nbconvert_exporter": "python",
   "pygments_lexer": "ipython3",
   "version": "3.7.0"
  }
 },
 "nbformat": 4,
 "nbformat_minor": 2
}
